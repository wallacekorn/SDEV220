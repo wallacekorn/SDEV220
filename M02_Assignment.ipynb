{
 "cells": [
  {
   "cell_type": "markdown",
   "id": "ef2750f2",
   "metadata": {},
   "source": [
    "<h3>4.1</h3>"
   ]
  },
  {
   "cell_type": "code",
   "execution_count": 1,
   "id": "bf1fdeb4",
   "metadata": {},
   "outputs": [
    {
     "name": "stdout",
     "output_type": "stream",
     "text": [
      "too low\n"
     ]
    }
   ],
   "source": [
    "secret = 9\n",
    "guess = 2\n",
    "if guess < secret:\n",
    "    print('too low')\n",
    "elif guess > secret:\n",
    "    print('too high')\n",
    "else:\n",
    "    print('just right')"
   ]
  },
  {
   "cell_type": "markdown",
   "id": "b53f7ee8",
   "metadata": {},
   "source": [
    "<h3>4.2</h3>"
   ]
  },
  {
   "cell_type": "code",
   "execution_count": 2,
   "id": "e44d6684",
   "metadata": {},
   "outputs": [
    {
     "name": "stdout",
     "output_type": "stream",
     "text": [
      "cherry\n"
     ]
    }
   ],
   "source": [
    "small = True\n",
    "green = False\n",
    "\n",
    "if small == True:\n",
    "    if green == True:\n",
    "        print(\"pea\")\n",
    "    else:\n",
    "        print(\"cherry\")\n",
    "else:\n",
    "    if green == True:\n",
    "        print(\"watermelon\")\n",
    "    else:\n",
    "        print(\"pumpkin\")"
   ]
  },
  {
   "cell_type": "markdown",
   "id": "f8289ee4",
   "metadata": {},
   "source": [
    "<h3>6.1</h3>"
   ]
  },
  {
   "cell_type": "code",
   "execution_count": 3,
   "id": "2b83f8ab",
   "metadata": {},
   "outputs": [
    {
     "name": "stdout",
     "output_type": "stream",
     "text": [
      "3\n",
      "2\n",
      "1\n",
      "0\n"
     ]
    }
   ],
   "source": [
    "list = [ 3, 2, 1, 0 ]\n",
    "\n",
    "for listValue in list:\n",
    "    print(listValue)"
   ]
  },
  {
   "cell_type": "markdown",
   "id": "49057e99",
   "metadata": {},
   "source": [
    "<h3>6.2</h3>"
   ]
  },
  {
   "cell_type": "code",
   "execution_count": 4,
   "id": "b1c67b33",
   "metadata": {},
   "outputs": [
    {
     "name": "stdout",
     "output_type": "stream",
     "text": [
      "too low\n",
      "too low\n",
      "too low\n",
      "too low\n",
      "too low\n",
      "too low\n",
      "found it!\n"
     ]
    }
   ],
   "source": [
    "guess_me = 7\n",
    "number = 1\n",
    "\n",
    "while number < (guess_me + 1):\n",
    "    if number == guess_me:\n",
    "        print(\"found it!\")\n",
    "        break\n",
    "    if number > guess_me:\n",
    "        print(\"oops\")\n",
    "        break\n",
    "    print(\"too low\")\n",
    "    number += 1"
   ]
  },
  {
   "cell_type": "markdown",
   "id": "c63f9116",
   "metadata": {},
   "source": [
    "<h3>6.3</h3>"
   ]
  },
  {
   "cell_type": "code",
   "execution_count": 5,
   "id": "f4b538b4",
   "metadata": {},
   "outputs": [
    {
     "name": "stdout",
     "output_type": "stream",
     "text": [
      "too low\n",
      "too low\n",
      "too low\n",
      "too low\n",
      "found it!\n"
     ]
    }
   ],
   "source": [
    "guess_me = 5\n",
    "\n",
    "for number in range(10):\n",
    "    numberShift = number+1\n",
    "    if numberShift < guess_me:\n",
    "        print(\"too low\")\n",
    "    if numberShift == guess_me:\n",
    "        print(\"found it!\")\n",
    "        break\n",
    "    if numberShift > guess_me:\n",
    "        print(\"oops\")\n",
    "        break"
   ]
  }
 ],
 "metadata": {
  "kernelspec": {
   "display_name": "Python 3 (ipykernel)",
   "language": "python",
   "name": "python3"
  },
  "language_info": {
   "codemirror_mode": {
    "name": "ipython",
    "version": 3
   },
   "file_extension": ".py",
   "mimetype": "text/x-python",
   "name": "python",
   "nbconvert_exporter": "python",
   "pygments_lexer": "ipython3",
   "version": "3.10.9"
  }
 },
 "nbformat": 4,
 "nbformat_minor": 5
}
