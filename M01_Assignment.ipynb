{
 "cells": [
  {
   "cell_type": "markdown",
   "id": "cba5e180",
   "metadata": {},
   "source": [
    "<h3>3.1</h3>"
   ]
  },
  {
   "cell_type": "markdown",
   "id": "3cefff9d",
   "metadata": {},
   "source": [
    "<h6>There are 3600 seconds in an hour</h6>"
   ]
  },
  {
   "cell_type": "code",
   "execution_count": 1,
   "id": "7942c50d",
   "metadata": {},
   "outputs": [
    {
     "data": {
      "text/plain": [
       "3600"
      ]
     },
     "execution_count": 1,
     "metadata": {},
     "output_type": "execute_result"
    }
   ],
   "source": [
    "(60*60)"
   ]
  },
  {
   "cell_type": "markdown",
   "id": "b78dee37",
   "metadata": {},
   "source": [
    "<h3>3.2</h3>"
   ]
  },
  {
   "cell_type": "code",
   "execution_count": 2,
   "id": "20e5dd2b",
   "metadata": {},
   "outputs": [],
   "source": [
    "seconds_per_hour = (60*60)"
   ]
  },
  {
   "cell_type": "markdown",
   "id": "db39c323",
   "metadata": {},
   "source": [
    "<h3>3.3</h3>"
   ]
  },
  {
   "cell_type": "markdown",
   "id": "732dd9bc",
   "metadata": {},
   "source": [
    "<h6>There are 86400 seconds in a day</h6>"
   ]
  },
  {
   "cell_type": "code",
   "execution_count": 3,
   "id": "fe5c7c3c",
   "metadata": {},
   "outputs": [
    {
     "data": {
      "text/plain": [
       "86400"
      ]
     },
     "execution_count": 3,
     "metadata": {},
     "output_type": "execute_result"
    }
   ],
   "source": [
    "(seconds_per_hour * 24)"
   ]
  },
  {
   "cell_type": "markdown",
   "id": "096f5733",
   "metadata": {},
   "source": [
    "<h3>3.4</h3>"
   ]
  },
  {
   "cell_type": "code",
   "execution_count": 4,
   "id": "4bd35d10",
   "metadata": {},
   "outputs": [],
   "source": [
    "seconds_per_day = (seconds_per_hour * 24)"
   ]
  },
  {
   "cell_type": "markdown",
   "id": "dbde215e",
   "metadata": {},
   "source": [
    "<h3>3.5</h3>"
   ]
  },
  {
   "cell_type": "code",
   "execution_count": 5,
   "id": "9cf12e63",
   "metadata": {},
   "outputs": [
    {
     "data": {
      "text/plain": [
       "24.0"
      ]
     },
     "execution_count": 5,
     "metadata": {},
     "output_type": "execute_result"
    }
   ],
   "source": [
    "(seconds_per_day / seconds_per_hour)"
   ]
  },
  {
   "cell_type": "markdown",
   "id": "f1f86850",
   "metadata": {},
   "source": [
    "<h3>3.6</h3>"
   ]
  },
  {
   "cell_type": "code",
   "execution_count": 6,
   "id": "b2570bc8",
   "metadata": {},
   "outputs": [
    {
     "data": {
      "text/plain": [
       "24"
      ]
     },
     "execution_count": 6,
     "metadata": {},
     "output_type": "execute_result"
    }
   ],
   "source": [
    "seconds_per_day//seconds_per_hour"
   ]
  },
  {
   "cell_type": "markdown",
   "id": "43f14ac5",
   "metadata": {},
   "source": [
    "<p>Yes, this number agrees with the floating-point value from the previous question, aside from the final '.0'.</p>"
   ]
  }
 ],
 "metadata": {
  "kernelspec": {
   "display_name": "Python 3 (ipykernel)",
   "language": "python",
   "name": "python3"
  },
  "language_info": {
   "codemirror_mode": {
    "name": "ipython",
    "version": 3
   },
   "file_extension": ".py",
   "mimetype": "text/x-python",
   "name": "python",
   "nbconvert_exporter": "python",
   "pygments_lexer": "ipython3",
   "version": "3.10.9"
  }
 },
 "nbformat": 4,
 "nbformat_minor": 5
}
