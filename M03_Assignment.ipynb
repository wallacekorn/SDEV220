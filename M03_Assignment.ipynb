{
 "cells": [
  {
   "cell_type": "markdown",
   "id": "7cc13691",
   "metadata": {},
   "source": [
    "<h3>7.4</h3>"
   ]
  },
  {
   "cell_type": "code",
   "execution_count": 1,
   "id": "672e111d",
   "metadata": {},
   "outputs": [],
   "source": [
    "things = ['mozzarella','cinderella','salmonella']"
   ]
  },
  {
   "cell_type": "markdown",
   "id": "f7633e75",
   "metadata": {},
   "source": [
    "<h3>7.5</h3>"
   ]
  },
  {
   "cell_type": "code",
   "execution_count": 2,
   "id": "7c8df08a",
   "metadata": {},
   "outputs": [
    {
     "name": "stdout",
     "output_type": "stream",
     "text": [
      "['mozzarella', 'Cinderella', 'salmonella']\n"
     ]
    }
   ],
   "source": [
    "things[1] = things[1].capitalize()\n",
    "print(things)"
   ]
  },
  {
   "cell_type": "markdown",
   "id": "f11f325b",
   "metadata": {},
   "source": [
    "<h6>Yes it did change the element in the list as it has a new memory location ID.</h6>"
   ]
  },
  {
   "cell_type": "markdown",
   "id": "4ce84d3e",
   "metadata": {},
   "source": [
    "<h3>7.6</h3>"
   ]
  },
  {
   "cell_type": "code",
   "execution_count": 3,
   "id": "21950787",
   "metadata": {},
   "outputs": [
    {
     "name": "stdout",
     "output_type": "stream",
     "text": [
      "['MOZZARELLA', 'Cinderella', 'salmonella']\n"
     ]
    }
   ],
   "source": [
    "things[0]= things[0].upper()\n",
    "print(things)"
   ]
  },
  {
   "cell_type": "markdown",
   "id": "38656168",
   "metadata": {},
   "source": [
    "<h3>7.7</h3>"
   ]
  },
  {
   "cell_type": "code",
   "execution_count": 4,
   "id": "d7dc24fa",
   "metadata": {},
   "outputs": [
    {
     "name": "stdout",
     "output_type": "stream",
     "text": [
      "['MOZZARELLA', 'Cinderella']\n"
     ]
    }
   ],
   "source": [
    "del things[2]\n",
    "print(things)"
   ]
  },
  {
   "cell_type": "markdown",
   "id": "94236c77",
   "metadata": {},
   "source": [
    "<h3>9.1</h3>"
   ]
  },
  {
   "cell_type": "code",
   "execution_count": 6,
   "id": "a21ef8df",
   "metadata": {},
   "outputs": [
    {
     "data": {
      "text/plain": [
       "['Harry', 'Ron', 'Hermoine']"
      ]
     },
     "execution_count": 6,
     "metadata": {},
     "output_type": "execute_result"
    }
   ],
   "source": [
    "def good():\n",
    "   students = ['Harry', 'Ron', 'Hermoine']\n",
    "   return students\n",
    "good()"
   ]
  },
  {
   "cell_type": "markdown",
   "id": "fe4e5caf",
   "metadata": {},
   "source": [
    "<h3>9.2</h3>"
   ]
  },
  {
   "cell_type": "code",
   "execution_count": 9,
   "id": "6900c28f",
   "metadata": {},
   "outputs": [
    {
     "name": "stdout",
     "output_type": "stream",
     "text": [
      "The third odd number is 5\n"
     ]
    }
   ],
   "source": [
    "def get_odds(first = 0, last = 10, step = 1):\n",
    "    firstBuffer = first\n",
    "    while firstBuffer < last:\n",
    "        yield firstBuffer\n",
    "        firstBuffer += step\n",
    "       \n",
    "\n",
    "counter = 1\n",
    "for num in get_odds(1,10,2):\n",
    "    if counter == 3:\n",
    "        print(f\"The third odd number is {num}\")\n",
    "    counter += 1"
   ]
  }
 ],
 "metadata": {
  "kernelspec": {
   "display_name": "Python 3 (ipykernel)",
   "language": "python",
   "name": "python3"
  },
  "language_info": {
   "codemirror_mode": {
    "name": "ipython",
    "version": 3
   },
   "file_extension": ".py",
   "mimetype": "text/x-python",
   "name": "python",
   "nbconvert_exporter": "python",
   "pygments_lexer": "ipython3",
   "version": "3.10.9"
  }
 },
 "nbformat": 4,
 "nbformat_minor": 5
}
