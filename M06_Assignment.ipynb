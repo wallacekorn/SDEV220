{
 "cells": [
  {
   "cell_type": "markdown",
   "id": "3bfa59a0",
   "metadata": {},
   "source": [
    "<h3>13.1</h3> Write the current date as a string to the text file today.txt."
   ]
  },
  {
   "cell_type": "code",
   "execution_count": 1,
   "id": "dbdb4086",
   "metadata": {},
   "outputs": [],
   "source": [
    "from datetime import date, datetime\n",
    "currentDateStored = date.today()\n",
    "\n",
    "with open('today.txt', 'w') as txtfile:\n",
    "    txtfile.write(currentDateStored.strftime('%m/%d/%Y'))"
   ]
  },
  {
   "cell_type": "markdown",
   "id": "edf4ab1c",
   "metadata": {},
   "source": [
    "<h3>13.2</h3>Read the text file today.txt into the string today_string."
   ]
  },
  {
   "cell_type": "code",
   "execution_count": 2,
   "id": "4e17a47e",
   "metadata": {},
   "outputs": [],
   "source": [
    "with open('today.txt', 'r') as txtfile:\n",
    "    today_string = txtfile.read()"
   ]
  },
  {
   "cell_type": "markdown",
   "id": "00a11285",
   "metadata": {},
   "source": [
    "<h3>13.3</h3>Parse the date from today_string."
   ]
  },
  {
   "cell_type": "code",
   "execution_count": 3,
   "id": "ba3a76f4",
   "metadata": {},
   "outputs": [
    {
     "name": "stdout",
     "output_type": "stream",
     "text": [
      "04/24/2023\n"
     ]
    }
   ],
   "source": [
    "import re\n",
    "extractedDate = re.search(r'(?P<xMonth>\\d{2})/(?P<xDay>\\d{2})/(?P<xYear>\\d{4})', today_string)\n",
    "extractedMonth = extractedDate.group('xMonth')\n",
    "extractedDay = extractedDate.group('xDay')\n",
    "extractedYear = extractedDate.group('xYear')\n",
    "print(f\"{extractedMonth}/{extractedDay}/{extractedYear}\")"
   ]
  },
  {
   "cell_type": "markdown",
   "id": "b32f0db3",
   "metadata": {},
   "source": [
    "<h3>15.1</h3>Use multiprocessing to create three separate processes. <br>Make each one wait a random number of seconds between zero and one, print the current time, and then exit."
   ]
  },
  {
   "cell_type": "code",
   "execution_count": 4,
   "id": "e600513e",
   "metadata": {},
   "outputs": [],
   "source": [
    "import multiprocessing as mp\n",
    "import time\n",
    "from random import randrange\n",
    "\n",
    "def timeprinter():\n",
    "    time.sleep(randrange(0,2))\n",
    "    print(time.ctime())\n",
    "    return\n",
    "\n",
    "if __name__ == '__main__':\n",
    "    for i in range(3):\n",
    "        p = mp.Process(target=timeprinter)\n",
    "        p.start()"
   ]
  }
 ],
 "metadata": {
  "kernelspec": {
   "display_name": "Python 3 (ipykernel)",
   "language": "python",
   "name": "python3"
  },
  "language_info": {
   "codemirror_mode": {
    "name": "ipython",
    "version": 3
   },
   "file_extension": ".py",
   "mimetype": "text/x-python",
   "name": "python",
   "nbconvert_exporter": "python",
   "pygments_lexer": "ipython3",
   "version": "3.10.9"
  }
 },
 "nbformat": 4,
 "nbformat_minor": 5
}
