{
 "cells": [
  {
   "cell_type": "markdown",
   "id": "67b33453",
   "metadata": {},
   "source": [
    "<h3>11.1</h3>"
   ]
  },
  {
   "cell_type": "code",
   "execution_count": 1,
   "id": "0d789399",
   "metadata": {},
   "outputs": [
    {
     "name": "stdout",
     "output_type": "stream",
     "text": [
      "Open 9-5 daily\n"
     ]
    }
   ],
   "source": [
    "with open('zoo.py', 'w') as zooFile:\n",
    "    zooFile.write(\"def hours():\\n\\tprint('Open 9-5 daily')\")\n",
    "    \n",
    "import zoo as zooFile\n",
    "zooFile.hours()"
   ]
  },
  {
   "cell_type": "markdown",
   "id": "05804c52",
   "metadata": {},
   "source": [
    "<h3>11.2</h3>"
   ]
  },
  {
   "cell_type": "code",
   "execution_count": 2,
   "id": "18cc6eed",
   "metadata": {},
   "outputs": [
    {
     "name": "stdout",
     "output_type": "stream",
     "text": [
      "Open 9-5 daily\n"
     ]
    }
   ],
   "source": [
    "import zoo as menagerie\n",
    "menagerie.hours()"
   ]
  },
  {
   "cell_type": "markdown",
   "id": "f63e8db5",
   "metadata": {},
   "source": [
    "<h3>Precursor to 16.8</h3>"
   ]
  },
  {
   "cell_type": "markdown",
   "id": "4459a1c1",
   "metadata": {},
   "source": [
    "<p>The directions for 16.8 start in the middle of a chain of directions. In order to prevent 16.8 from throwing errors I added this.</p>"
   ]
  },
  {
   "cell_type": "code",
   "execution_count": 3,
   "id": "ced67d7c",
   "metadata": {},
   "outputs": [],
   "source": [
    "import sqlite3\n",
    "conn = sqlite3.connect('books.db')\n",
    "curs = conn.cursor()\n",
    "curs.execute('''CREATE TABLE books (title VARCHAR(25) PRIMARY KEY, author VARCHAR(25), year INT)''')\n",
    "ins = 'INSERT INTO books (title, author, year) VALUES(?, ?, ?)'\n",
    "curs.execute(ins, ('First Book', 'First Author', 2022 ))\n",
    "curs.execute(ins, ('Second Book', 'Second Author', 2023 ))\n",
    "conn.commit()\n",
    "conn.close()"
   ]
  },
  {
   "cell_type": "markdown",
   "id": "f93125e7",
   "metadata": {},
   "source": [
    "<h3>16.8</h3>"
   ]
  },
  {
   "cell_type": "markdown",
   "id": "d8ff6fe5",
   "metadata": {},
   "source": [
    "<p>Use the sqlalchemy module to connect to the sqlite3 database \n",
    "books.db</p>"
   ]
  },
  {
   "cell_type": "code",
   "execution_count": 4,
   "id": "d3554e56",
   "metadata": {},
   "outputs": [],
   "source": [
    "import sqlalchemy as sqla\n",
    "bookEngine = sqla.create_engine('sqlite:///books.db')"
   ]
  },
  {
   "cell_type": "markdown",
   "id": "c1a2e727",
   "metadata": {},
   "source": [
    "<p>Select and print the title column from the book table \n",
    "in alphabetical order</p>"
   ]
  },
  {
   "cell_type": "code",
   "execution_count": 5,
   "id": "5c4eccaa",
   "metadata": {},
   "outputs": [
    {
     "name": "stdout",
     "output_type": "stream",
     "text": [
      "First Book\n",
      "Second Book\n"
     ]
    }
   ],
   "source": [
    "titleList = bookEngine.execute('SELECT title FROM books ORDER BY title')\n",
    "for booktitle in titleList:\n",
    "    print(booktitle[0])"
   ]
  }
 ],
 "metadata": {
  "kernelspec": {
   "display_name": "Python 3 (ipykernel)",
   "language": "python",
   "name": "python3"
  },
  "language_info": {
   "codemirror_mode": {
    "name": "ipython",
    "version": 3
   },
   "file_extension": ".py",
   "mimetype": "text/x-python",
   "name": "python",
   "nbconvert_exporter": "python",
   "pygments_lexer": "ipython3",
   "version": "3.10.9"
  }
 },
 "nbformat": 4,
 "nbformat_minor": 5
}
